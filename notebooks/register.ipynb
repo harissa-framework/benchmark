{
 "cells": [
  {
   "cell_type": "markdown",
   "id": "c4154c07",
   "metadata": {},
   "source": [
    "# Register\n",
    "\n",
    "## Networks\n",
    "\n",
    "### Display the registered networks\n",
    "\n",
    "To know which networks parameter are available, use the function\n",
    "`available_networks`."
   ]
  },
  {
   "cell_type": "code",
   "execution_count": 1,
   "id": "6129f493",
   "metadata": {},
   "outputs": [
    {
     "name": "stdout",
     "output_type": "stream",
     "text": [
      "['BN8', 'CN5', 'FN4', 'FN8', 'Trees5', 'Trees10', 'Trees20', 'Trees50', 'Trees100']\n"
     ]
    }
   ],
   "source": [
    "from harissa.benchmark import available_networks\n",
    "\n",
    "print(available_networks())"
   ]
  },
  {
   "cell_type": "markdown",
   "id": "3844769b",
   "metadata": {},
   "source": [
    "## Register networks parameter"
   ]
  },
  {
   "cell_type": "code",
   "execution_count": 2,
   "id": "04fcf695",
   "metadata": {},
   "outputs": [
    {
     "name": "stdout",
     "output_type": "stream",
     "text": [
      "TODO\n"
     ]
    }
   ],
   "source": [
    "print('TODO')"
   ]
  },
  {
   "cell_type": "markdown",
   "id": "19960daa",
   "metadata": {},
   "source": [
    "## Inferences\n",
    "\n",
    "### Display the registered inference methods\n",
    "\n",
    "To know which inference methods are available, use the function `available_inferences`."
   ]
  },
  {
   "cell_type": "code",
   "execution_count": 3,
   "id": "5d5763b4",
   "metadata": {},
   "outputs": [
    {
     "name": "stdout",
     "output_type": "stream",
     "text": [
      "['Hartree', 'Cardamom', 'Pearson']\n"
     ]
    }
   ],
   "source": [
    "from harissa.benchmark import available_inferences\n",
    "\n",
    "print(available_inferences())"
   ]
  },
  {
   "cell_type": "markdown",
   "id": "aaab47ef",
   "metadata": {},
   "source": [
    "### Register inference methods\n",
    "\n",
    "To register your custom Inference method:\n",
    "\n",
    "1.  Implement a subclass of `harissa.core.Inference`. \n",
    "For more details see the [harissa's inferences](https://github.com/harissa-framework/harissa/tree/main/src/harissa/inference) or the implementations examples inside the [examples folder](https://github.com/harissa-framework/benchmark/tree/main/examples).\n",
    "\n",
    "    ```python\n",
    "    class Genie3(Inference):\n",
    "        @property\n",
    "        def directed(self):\n",
    "            return True\n",
    "        \n",
    "        def run(self,\n",
    "            data: Dataset,\n",
    "            param: NetworkParameter\n",
    "        ) -> Inference.Result:\n",
    "            param.interaction[:] = genie3(data.count_matrix)\n",
    "            return Inference.Result(param)\n",
    "    ```\n",
    "\n",
    "2.  Register it with the `InferencesGenerator.register()` method. \n",
    "    It takes a name of the inference method and an `InferenceInfo` object.\n",
    "    You can create an `InferenceInfo` object by passing it your `class` and its colors (used for the plots inside the reports). `InferencesGenerator` provides a color map but your custom colors by passing a tuple of RGBA values."
   ]
  },
  {
   "cell_type": "code",
   "execution_count": 4,
   "id": "30073bad",
   "metadata": {},
   "outputs": [
    {
     "name": "stdout",
     "output_type": "stream",
     "text": [
      "['Hartree', 'Cardamom', 'Pearson', 'Genie3', 'Sincerities']\n"
     ]
    }
   ],
   "source": [
    "import sys\n",
    "sys.path.append('../examples')\n",
    "import numpy as np\n",
    "\n",
    "from harissa.benchmark.generators import InferencesGenerator, InferenceInfo\n",
    "\n",
    "\n",
    "from genie3 import Genie3\n",
    "from sincerities import Sincerities\n",
    "\n",
    "InferencesGenerator.register(\n",
    "    'Genie3', \n",
    "    InferenceInfo(\n",
    "        Genie3,\n",
    "        colors=np.array([\n",
    "            InferencesGenerator.color_map(0), \n",
    "            InferencesGenerator.color_map(1)\n",
    "        ])\n",
    "    )\n",
    ")\n",
    "\n",
    "InferencesGenerator.register(\n",
    "    'Sincerities', \n",
    "    InferenceInfo(\n",
    "        Sincerities,\n",
    "        np.array([InferencesGenerator.color_map(2),\n",
    "                  InferencesGenerator.color_map(3)])\n",
    "    )\n",
    ")\n",
    "print(available_inferences())"
   ]
  },
  {
   "cell_type": "code",
   "execution_count": 5,
   "id": "0f43efb8-8383-496f-8427-d9bdb192def9",
   "metadata": {
    "editable": true,
    "slideshow": {
     "slide_type": ""
    },
    "tags": []
   },
   "outputs": [],
   "source": [
    "from pathlib import Path\n",
    "from harissa.benchmark import Benchmark\n",
    "from harissa.benchmark.generators import DatasetsGenerator\n",
    "\n",
    "archive = Path('../cardamom_benchmark.tar.gz')\n",
    "if not archive.exists():\n",
    "    benchmark = Benchmark(\n",
    "        n_scores=1,\n",
    "        datasets_generator=DatasetsGenerator(\n",
    "            path='../cardamom_datasets',\n",
    "            include=['BN8', 'FN4', 'FN8', 'CN5']\n",
    "        )\n",
    "    )\n",
    "else:\n",
    "    benchmark = Benchmark(path=archive)\n",
    "\n",
    "# for name, network in benchmark.networks.items():\n",
    "#     print(f'{name}:')\n",
    "#     plot_network(network.interaction, build_pos(network.interaction))"
   ]
  }
 ],
 "metadata": {
  "kernelspec": {
   "display_name": "Python 3 (ipykernel)",
   "language": "python",
   "name": "python3"
  },
  "language_info": {
   "codemirror_mode": {
    "name": "ipython",
    "version": 3
   },
   "file_extension": ".py",
   "mimetype": "text/x-python",
   "name": "python",
   "nbconvert_exporter": "python",
   "pygments_lexer": "ipython3",
   "version": "3.10.12"
  }
 },
 "nbformat": 4,
 "nbformat_minor": 5
}
